{
 "cells": [
  {
   "cell_type": "code",
   "execution_count": 1,
   "id": "e69c9354",
   "metadata": {},
   "outputs": [],
   "source": [
    "import numpy as np\n",
    "import torch"
   ]
  },
  {
   "cell_type": "code",
   "execution_count": 2,
   "id": "ab54fdb9",
   "metadata": {},
   "outputs": [],
   "source": [
    "# Input (temp, rainfall, humidity)\n",
    "inputs = np.array([[73, 67, 43], \n",
    "                   [91, 88, 64], \n",
    "                   [87, 134, 58], \n",
    "                   [102, 43, 37], \n",
    "                   [69, 96, 70]], dtype='float32')"
   ]
  },
  {
   "cell_type": "code",
   "execution_count": 3,
   "id": "60b048a5",
   "metadata": {},
   "outputs": [],
   "source": [
    "# Targets (apples, oranges)\n",
    "targets = np.array([[56, 70], \n",
    "                    [81, 101], \n",
    "                    [119, 133], \n",
    "                    [22, 37], \n",
    "                    [103, 119]], dtype='float32')"
   ]
  },
  {
   "cell_type": "code",
   "execution_count": 4,
   "id": "ec840a23",
   "metadata": {},
   "outputs": [
    {
     "name": "stdout",
     "output_type": "stream",
     "text": [
      "tensor([[ 73.,  67.,  43.],\n",
      "        [ 91.,  88.,  64.],\n",
      "        [ 87., 134.,  58.],\n",
      "        [102.,  43.,  37.],\n",
      "        [ 69.,  96.,  70.]])\n",
      "tensor([[ 56.,  70.],\n",
      "        [ 81., 101.],\n",
      "        [119., 133.],\n",
      "        [ 22.,  37.],\n",
      "        [103., 119.]])\n"
     ]
    }
   ],
   "source": [
    "# Convert inputs and targets to tensors\n",
    "inputs = torch.from_numpy(inputs)\n",
    "targets = torch.from_numpy(targets)\n",
    "print(inputs)\n",
    "print(targets)"
   ]
  },
  {
   "cell_type": "code",
   "execution_count": 5,
   "id": "1d5690f1",
   "metadata": {},
   "outputs": [
    {
     "name": "stdout",
     "output_type": "stream",
     "text": [
      "tensor([[ 1.2521,  1.8877,  1.1725],\n",
      "        [-1.4543, -0.6936, -1.1333]], requires_grad=True)\n",
      "tensor([-1.1569,  0.5500], requires_grad=True)\n"
     ]
    }
   ],
   "source": [
    "# Weights and biases\n",
    "w = torch.randn(2, 3, requires_grad=True)\n",
    "b = torch.randn(2, requires_grad=True)\n",
    "print(w)\n",
    "print(b)"
   ]
  },
  {
   "cell_type": "code",
   "execution_count": 6,
   "id": "7db1a34b",
   "metadata": {},
   "outputs": [],
   "source": [
    "def model(x):\n",
    "    return x @ w.t() + b"
   ]
  },
  {
   "cell_type": "code",
   "execution_count": 7,
   "id": "2b268957",
   "metadata": {},
   "outputs": [
    {
     "name": "stdout",
     "output_type": "stream",
     "text": [
      "tensor([[ 267.1409, -200.8217],\n",
      "        [ 353.9437, -265.3650],\n",
      "        [ 428.7355, -284.6552],\n",
      "        [ 251.1101, -219.5509],\n",
      "        [ 348.5353, -245.7180]], grad_fn=<AddBackward0>)\n"
     ]
    }
   ],
   "source": [
    "# Generate predictions\n",
    "preds = model(inputs)\n",
    "print(preds)"
   ]
  },
  {
   "cell_type": "code",
   "execution_count": 8,
   "id": "5bcf19ef",
   "metadata": {},
   "outputs": [
    {
     "name": "stdout",
     "output_type": "stream",
     "text": [
      "tensor([[ 56.,  70.],\n",
      "        [ 81., 101.],\n",
      "        [119., 133.],\n",
      "        [ 22.,  37.],\n",
      "        [103., 119.]])\n"
     ]
    }
   ],
   "source": [
    "# Compare with targets\n",
    "print(targets)"
   ]
  },
  {
   "cell_type": "code",
   "execution_count": 9,
   "id": "e68f9926",
   "metadata": {},
   "outputs": [],
   "source": [
    "# MSE loss\n",
    "def mse(t1, t2):\n",
    "    diff = t1 - t2\n",
    "    return torch.sum(diff * diff) / diff.numel()"
   ]
  },
  {
   "cell_type": "code",
   "execution_count": 10,
   "id": "9bf76eda",
   "metadata": {},
   "outputs": [
    {
     "name": "stdout",
     "output_type": "stream",
     "text": [
      "tensor(90863.5078, grad_fn=<DivBackward0>)\n"
     ]
    }
   ],
   "source": [
    "# Compute loss\n",
    "loss = mse(preds, targets)\n",
    "print(loss)"
   ]
  },
  {
   "cell_type": "code",
   "execution_count": 11,
   "id": "11c64204",
   "metadata": {},
   "outputs": [],
   "source": [
    "# Compute gradients\n",
    "loss.backward()"
   ]
  },
  {
   "cell_type": "code",
   "execution_count": 12,
   "id": "aa943ab1",
   "metadata": {},
   "outputs": [
    {
     "name": "stdout",
     "output_type": "stream",
     "text": [
      "tensor([[ 1.2521,  1.8877,  1.1725],\n",
      "        [-1.4543, -0.6936, -1.1333]], requires_grad=True)\n",
      "tensor([[ 21501.8633,  22618.6367,  14035.3320],\n",
      "        [-28155.7891, -30479.1191, -18867.8691]])\n"
     ]
    }
   ],
   "source": [
    "# Gradients for weights\n",
    "print(w)\n",
    "print(w.grad)"
   ]
  },
  {
   "cell_type": "code",
   "execution_count": 13,
   "id": "43f7b0f6",
   "metadata": {},
   "outputs": [
    {
     "name": "stdout",
     "output_type": "stream",
     "text": [
      "tensor([[0., 0., 0.],\n",
      "        [0., 0., 0.]])\n",
      "tensor([0., 0.])\n"
     ]
    }
   ],
   "source": [
    "w.grad.zero_()\n",
    "b.grad.zero_()\n",
    "print(w.grad)\n",
    "print(b.grad)"
   ]
  },
  {
   "cell_type": "code",
   "execution_count": 14,
   "id": "576fbe71",
   "metadata": {},
   "outputs": [
    {
     "name": "stdout",
     "output_type": "stream",
     "text": [
      "tensor([[ 267.1409, -200.8217],\n",
      "        [ 353.9437, -265.3650],\n",
      "        [ 428.7355, -284.6552],\n",
      "        [ 251.1101, -219.5509],\n",
      "        [ 348.5353, -245.7180]], grad_fn=<AddBackward0>)\n"
     ]
    }
   ],
   "source": [
    "# Generate predictions\n",
    "preds = model(inputs)\n",
    "print(preds)"
   ]
  },
  {
   "cell_type": "code",
   "execution_count": 15,
   "id": "6792b58a",
   "metadata": {},
   "outputs": [
    {
     "name": "stdout",
     "output_type": "stream",
     "text": [
      "tensor(90863.5078, grad_fn=<DivBackward0>)\n"
     ]
    }
   ],
   "source": [
    "# Calculate the loss\n",
    "loss = mse(preds, targets)\n",
    "print(loss)"
   ]
  },
  {
   "cell_type": "code",
   "execution_count": 16,
   "id": "60579b40",
   "metadata": {},
   "outputs": [
    {
     "name": "stdout",
     "output_type": "stream",
     "text": [
      "tensor([[ 21501.8633,  22618.6367,  14035.3320],\n",
      "        [-28155.7891, -30479.1191, -18867.8691]])\n",
      "tensor([ 253.6931, -335.2222])\n"
     ]
    }
   ],
   "source": [
    "# Compute gradients\n",
    "loss.backward()\n",
    "print(w.grad)\n",
    "print(b.grad)"
   ]
  },
  {
   "cell_type": "code",
   "execution_count": 17,
   "id": "f4092cc7",
   "metadata": {},
   "outputs": [],
   "source": [
    "# Adjust weights & reset gradients\n",
    "with torch.no_grad():\n",
    "    w -= w.grad * 1e-5\n",
    "    b -= b.grad * 1e-5\n",
    "    w.grad.zero_()\n",
    "    b.grad.zero_()"
   ]
  },
  {
   "cell_type": "code",
   "execution_count": 18,
   "id": "a4ad6479",
   "metadata": {},
   "outputs": [
    {
     "name": "stdout",
     "output_type": "stream",
     "text": [
      "tensor([[ 1.0370,  1.6615,  1.0322],\n",
      "        [-1.1728, -0.3888, -0.9446]], requires_grad=True)\n",
      "tensor([-1.1594,  0.5534], requires_grad=True)\n"
     ]
    }
   ],
   "source": [
    "print(w)\n",
    "print(b)"
   ]
  },
  {
   "cell_type": "code",
   "execution_count": 19,
   "id": "a0a548b5",
   "metadata": {},
   "outputs": [
    {
     "name": "stdout",
     "output_type": "stream",
     "text": [
      "tensor(61284.3945, grad_fn=<DivBackward0>)\n"
     ]
    }
   ],
   "source": [
    "# Calculate loss\n",
    "preds = model(inputs)\n",
    "loss = mse(preds, targets)\n",
    "print(loss)"
   ]
  },
  {
   "cell_type": "code",
   "execution_count": 20,
   "id": "0a80947a",
   "metadata": {},
   "outputs": [],
   "source": [
    "# Train for 100 epochs\n",
    "for i in range(100):\n",
    "    preds = model(inputs)\n",
    "    loss = mse(preds, targets)\n",
    "    loss.backward()\n",
    "    with torch.no_grad():\n",
    "        w -= w.grad * 1e-5\n",
    "        b -= b.grad * 1e-5\n",
    "        w.grad.zero_()\n",
    "        b.grad.zero_()"
   ]
  },
  {
   "cell_type": "code",
   "execution_count": 21,
   "id": "50130a94",
   "metadata": {},
   "outputs": [
    {
     "name": "stdout",
     "output_type": "stream",
     "text": [
      "tensor(78.1838, grad_fn=<DivBackward0>)\n"
     ]
    }
   ],
   "source": [
    "# Calculate loss\n",
    "preds = model(inputs)\n",
    "loss = mse(preds, targets)\n",
    "print(loss)"
   ]
  },
  {
   "cell_type": "code",
   "execution_count": 22,
   "id": "ca127c12",
   "metadata": {},
   "outputs": [
    {
     "data": {
      "text/plain": [
       "tensor([[ 59.3486,  72.2963],\n",
       "        [ 82.1618,  94.8146],\n",
       "        [115.2817, 143.0828],\n",
       "        [ 34.7591,  47.2877],\n",
       "        [ 93.6290, 103.0686]], grad_fn=<AddBackward0>)"
      ]
     },
     "execution_count": 22,
     "metadata": {},
     "output_type": "execute_result"
    }
   ],
   "source": [
    "# Predictions\n",
    "preds"
   ]
  },
  {
   "cell_type": "code",
   "execution_count": 23,
   "id": "f00077a4",
   "metadata": {},
   "outputs": [
    {
     "data": {
      "text/plain": [
       "tensor([[ 56.,  70.],\n",
       "        [ 81., 101.],\n",
       "        [119., 133.],\n",
       "        [ 22.,  37.],\n",
       "        [103., 119.]])"
      ]
     },
     "execution_count": 23,
     "metadata": {},
     "output_type": "execute_result"
    }
   ],
   "source": [
    "# Targets\n",
    "targets"
   ]
  },
  {
   "cell_type": "code",
   "execution_count": 24,
   "id": "31e27af0",
   "metadata": {},
   "outputs": [],
   "source": [
    "# Train for 100 epochs\n",
    "for i in range(1000):\n",
    "    preds = model(inputs)\n",
    "    loss = mse(preds, targets)\n",
    "    loss.backward()\n",
    "    with torch.no_grad():\n",
    "        w -= w.grad * 1e-5\n",
    "        b -= b.grad * 1e-5\n",
    "        w.grad.zero_()\n",
    "        b.grad.zero_()"
   ]
  },
  {
   "cell_type": "code",
   "execution_count": 25,
   "id": "e2398ae0",
   "metadata": {},
   "outputs": [
    {
     "name": "stdout",
     "output_type": "stream",
     "text": [
      "tensor(7.8776, grad_fn=<DivBackward0>)\n"
     ]
    }
   ],
   "source": [
    "# Calculate loss\n",
    "preds = model(inputs)\n",
    "loss = mse(preds, targets)\n",
    "print(loss)"
   ]
  },
  {
   "cell_type": "code",
   "execution_count": 26,
   "id": "6827204f",
   "metadata": {},
   "outputs": [
    {
     "data": {
      "text/plain": [
       "tensor([[ 57.0585,  70.7175],\n",
       "        [ 81.6104,  97.9997],\n",
       "        [120.2175, 138.3772],\n",
       "        [ 21.5498,  38.5384],\n",
       "        [100.3780, 113.7156]], grad_fn=<AddBackward0>)"
      ]
     },
     "execution_count": 26,
     "metadata": {},
     "output_type": "execute_result"
    }
   ],
   "source": [
    "# Predictions\n",
    "preds"
   ]
  },
  {
   "cell_type": "code",
   "execution_count": 27,
   "id": "a319eb68",
   "metadata": {},
   "outputs": [
    {
     "data": {
      "text/plain": [
       "tensor([[ 56.,  70.],\n",
       "        [ 81., 101.],\n",
       "        [119., 133.],\n",
       "        [ 22.,  37.],\n",
       "        [103., 119.]])"
      ]
     },
     "execution_count": 27,
     "metadata": {},
     "output_type": "execute_result"
    }
   ],
   "source": [
    "# Targets\n",
    "targets"
   ]
  },
  {
   "cell_type": "code",
   "execution_count": 28,
   "id": "a8eda859",
   "metadata": {},
   "outputs": [],
   "source": [
    "import torch.nn as nn"
   ]
  },
  {
   "cell_type": "code",
   "execution_count": 29,
   "id": "017580c7",
   "metadata": {},
   "outputs": [],
   "source": [
    "# Input (temp, rainfall, humidity)\n",
    "inputs = np.array([[73, 67, 43], \n",
    "                   [91, 88, 64], \n",
    "                   [87, 134, 58], \n",
    "                   [102, 43, 37], \n",
    "                   [69, 96, 70], \n",
    "                   [74, 66, 43], \n",
    "                   [91, 87, 65], \n",
    "                   [88, 134, 59], \n",
    "                   [101, 44, 37], \n",
    "                   [68, 96, 71], \n",
    "                   [73, 66, 44], \n",
    "                   [92, 87, 64], \n",
    "                   [87, 135, 57], \n",
    "                   [103, 43, 36], \n",
    "                   [68, 97, 70]], \n",
    "                  dtype='float32')\n",
    "\n",
    "# Targets (apples, oranges)\n",
    "targets = np.array([[56, 70], \n",
    "                    [81, 101], \n",
    "                    [119, 133], \n",
    "                    [22, 37], \n",
    "                    [103, 119],\n",
    "                    [57, 69], \n",
    "                    [80, 102], \n",
    "                    [118, 132], \n",
    "                    [21, 38], \n",
    "                    [104, 118], \n",
    "                    [57, 69], \n",
    "                    [82, 100], \n",
    "                    [118, 134], \n",
    "                    [20, 38], \n",
    "                    [102, 120]], \n",
    "                   dtype='float32')\n",
    "\n",
    "inputs = torch.from_numpy(inputs)\n",
    "targets = torch.from_numpy(targets)"
   ]
  },
  {
   "cell_type": "code",
   "execution_count": 30,
   "id": "98004514",
   "metadata": {},
   "outputs": [
    {
     "data": {
      "text/plain": [
       "tensor([[ 73.,  67.,  43.],\n",
       "        [ 91.,  88.,  64.],\n",
       "        [ 87., 134.,  58.],\n",
       "        [102.,  43.,  37.],\n",
       "        [ 69.,  96.,  70.],\n",
       "        [ 74.,  66.,  43.],\n",
       "        [ 91.,  87.,  65.],\n",
       "        [ 88., 134.,  59.],\n",
       "        [101.,  44.,  37.],\n",
       "        [ 68.,  96.,  71.],\n",
       "        [ 73.,  66.,  44.],\n",
       "        [ 92.,  87.,  64.],\n",
       "        [ 87., 135.,  57.],\n",
       "        [103.,  43.,  36.],\n",
       "        [ 68.,  97.,  70.]])"
      ]
     },
     "execution_count": 30,
     "metadata": {},
     "output_type": "execute_result"
    }
   ],
   "source": [
    "inputs"
   ]
  },
  {
   "cell_type": "code",
   "execution_count": 31,
   "id": "b780d7ec",
   "metadata": {},
   "outputs": [],
   "source": [
    "from torch.utils.data import TensorDataset"
   ]
  },
  {
   "cell_type": "code",
   "execution_count": 32,
   "id": "ed072414",
   "metadata": {},
   "outputs": [
    {
     "data": {
      "text/plain": [
       "(tensor([[ 73.,  67.,  43.],\n",
       "         [ 91.,  88.,  64.],\n",
       "         [ 87., 134.,  58.]]),\n",
       " tensor([[ 56.,  70.],\n",
       "         [ 81., 101.],\n",
       "         [119., 133.]]))"
      ]
     },
     "execution_count": 32,
     "metadata": {},
     "output_type": "execute_result"
    }
   ],
   "source": [
    "# Define dataset\n",
    "train_ds = TensorDataset(inputs, targets)\n",
    "train_ds[0:3]"
   ]
  },
  {
   "cell_type": "code",
   "execution_count": 33,
   "id": "cc0b9ef3",
   "metadata": {},
   "outputs": [],
   "source": [
    "from torch.utils.data import DataLoader"
   ]
  },
  {
   "cell_type": "code",
   "execution_count": 34,
   "id": "9b158f58",
   "metadata": {},
   "outputs": [],
   "source": [
    "# Define data loader\n",
    "batch_size = 5\n",
    "train_dl = DataLoader(train_ds, batch_size, shuffle=True)"
   ]
  },
  {
   "cell_type": "code",
   "execution_count": 37,
   "id": "5982675c",
   "metadata": {},
   "outputs": [
    {
     "name": "stdout",
     "output_type": "stream",
     "text": [
      "tensor([[ 91.,  88.,  64.],\n",
      "        [ 91.,  87.,  65.],\n",
      "        [101.,  44.,  37.],\n",
      "        [ 73.,  67.,  43.],\n",
      "        [ 92.,  87.,  64.]])\n",
      "tensor([[ 81., 101.],\n",
      "        [ 80., 102.],\n",
      "        [ 21.,  38.],\n",
      "        [ 56.,  70.],\n",
      "        [ 82., 100.]])\n"
     ]
    }
   ],
   "source": [
    "for xb, yb in train_dl:\n",
    "    print(xb)\n",
    "    print(yb)\n",
    "    break"
   ]
  },
  {
   "cell_type": "code",
   "execution_count": 38,
   "id": "bb01e2d9",
   "metadata": {},
   "outputs": [
    {
     "name": "stdout",
     "output_type": "stream",
     "text": [
      "Parameter containing:\n",
      "tensor([[-0.2255, -0.2624, -0.4539],\n",
      "        [-0.0435,  0.2895,  0.5474]], requires_grad=True)\n",
      "Parameter containing:\n",
      "tensor([-0.5496, -0.3281], requires_grad=True)\n"
     ]
    }
   ],
   "source": [
    "# Define model\n",
    "model = nn.Linear(3, 2)\n",
    "print(model.weight)\n",
    "print(model.bias)"
   ]
  },
  {
   "cell_type": "code",
   "execution_count": 39,
   "id": "67946417",
   "metadata": {},
   "outputs": [
    {
     "data": {
      "text/plain": [
       "[Parameter containing:\n",
       " tensor([[-0.2255, -0.2624, -0.4539],\n",
       "         [-0.0435,  0.2895,  0.5474]], requires_grad=True),\n",
       " Parameter containing:\n",
       " tensor([-0.5496, -0.3281], requires_grad=True)]"
      ]
     },
     "execution_count": 39,
     "metadata": {},
     "output_type": "execute_result"
    }
   ],
   "source": [
    "# Parameters\n",
    "list(model.parameters())"
   ]
  },
  {
   "cell_type": "code",
   "execution_count": 40,
   "id": "e64b8099",
   "metadata": {},
   "outputs": [
    {
     "data": {
      "text/plain": [
       "tensor([[-54.1069,  39.4277],\n",
       "        [-73.2070,  56.2184],\n",
       "        [-81.6506,  66.4245],\n",
       "        [-51.6272,  27.9340],\n",
       "        [-73.0675,  62.7757],\n",
       "        [-54.0701,  39.0947],\n",
       "        [-73.3984,  56.4762],\n",
       "        [-82.3299,  66.9284],\n",
       "        [-51.6640,  28.2670],\n",
       "        [-73.2958,  63.3666],\n",
       "        [-54.2984,  39.6856],\n",
       "        [-73.1701,  55.8854],\n",
       "        [-81.4591,  66.1666],\n",
       "        [-51.3989,  27.3432],\n",
       "        [-73.1043,  63.1087]], grad_fn=<AddmmBackward0>)"
      ]
     },
     "execution_count": 40,
     "metadata": {},
     "output_type": "execute_result"
    }
   ],
   "source": [
    "# Generate predictions\n",
    "preds = model(inputs)\n",
    "preds"
   ]
  },
  {
   "cell_type": "code",
   "execution_count": 41,
   "id": "a9b9dd66",
   "metadata": {},
   "outputs": [],
   "source": [
    "# Import nn.functional\n",
    "import torch.nn.functional as F"
   ]
  },
  {
   "cell_type": "code",
   "execution_count": 42,
   "id": "39028772",
   "metadata": {},
   "outputs": [],
   "source": [
    "# Define loss function\n",
    "loss_fn = F.mse_loss"
   ]
  },
  {
   "cell_type": "code",
   "execution_count": 43,
   "id": "88232144",
   "metadata": {},
   "outputs": [
    {
     "name": "stdout",
     "output_type": "stream",
     "text": [
      "tensor(12298.6660, grad_fn=<MseLossBackward0>)\n"
     ]
    }
   ],
   "source": [
    "loss = loss_fn(model(inputs), targets)\n",
    "print(loss)"
   ]
  },
  {
   "cell_type": "code",
   "execution_count": 44,
   "id": "1558318f",
   "metadata": {},
   "outputs": [],
   "source": [
    "# Define optimizer\n",
    "opt = torch.optim.SGD(model.parameters(), lr=1e-5)"
   ]
  },
  {
   "cell_type": "code",
   "execution_count": 45,
   "id": "f7d6f264",
   "metadata": {},
   "outputs": [
    {
     "name": "stdout",
     "output_type": "stream",
     "text": [
      "tensor(12298.6660, grad_fn=<MseLossBackward0>)\n"
     ]
    }
   ],
   "source": [
    "loss = loss_fn(model(inputs), targets)\n",
    "print(loss)"
   ]
  },
  {
   "cell_type": "code",
   "execution_count": 46,
   "id": "c743a273",
   "metadata": {},
   "outputs": [],
   "source": [
    "# Utility function to train the model\n",
    "def fit(num_epochs, model, loss_fn, opt, train_dl):\n",
    "    \n",
    "    # Repeat for given number of epochs\n",
    "    for epoch in range(num_epochs):\n",
    "        \n",
    "        # Train with batches of data\n",
    "        for xb,yb in train_dl:\n",
    "            \n",
    "            # 1. Generate predictions\n",
    "            pred = model(xb)\n",
    "            \n",
    "            # 2. Calculate loss\n",
    "            loss = loss_fn(pred, yb)\n",
    "            \n",
    "            # 3. Compute gradients\n",
    "            loss.backward()\n",
    "            \n",
    "            # 4. Update parameters using gradients\n",
    "            opt.step()\n",
    "            \n",
    "            # 5. Reset the gradients to zero\n",
    "            opt.zero_grad()\n",
    "        \n",
    "        # Print the progress\n",
    "        if (epoch+1) % 10 == 0:\n",
    "            print('Epoch [{}/{}], Loss: {:.4f}'.format(epoch+1, num_epochs, loss.item()))"
   ]
  },
  {
   "cell_type": "code",
   "execution_count": 47,
   "id": "a32152f3",
   "metadata": {},
   "outputs": [
    {
     "name": "stdout",
     "output_type": "stream",
     "text": [
      "Epoch [10/100], Loss: 185.5686\n",
      "Epoch [20/100], Loss: 193.8278\n",
      "Epoch [30/100], Loss: 138.6139\n",
      "Epoch [40/100], Loss: 75.6463\n",
      "Epoch [50/100], Loss: 47.3090\n",
      "Epoch [60/100], Loss: 32.4450\n",
      "Epoch [70/100], Loss: 27.6686\n",
      "Epoch [80/100], Loss: 35.7375\n",
      "Epoch [90/100], Loss: 41.9195\n",
      "Epoch [100/100], Loss: 22.6539\n"
     ]
    }
   ],
   "source": [
    "fit(100, model, loss_fn, opt, train_dl)"
   ]
  },
  {
   "cell_type": "code",
   "execution_count": 48,
   "id": "ac496103",
   "metadata": {},
   "outputs": [
    {
     "name": "stdout",
     "output_type": "stream",
     "text": [
      "Epoch [10/100], Loss: 15.5239\n",
      "Epoch [20/100], Loss: 12.5192\n",
      "Epoch [30/100], Loss: 16.0196\n",
      "Epoch [40/100], Loss: 4.1675\n",
      "Epoch [50/100], Loss: 15.9893\n",
      "Epoch [60/100], Loss: 13.9032\n",
      "Epoch [70/100], Loss: 5.3639\n",
      "Epoch [80/100], Loss: 7.4514\n",
      "Epoch [90/100], Loss: 11.4401\n",
      "Epoch [100/100], Loss: 6.2343\n"
     ]
    }
   ],
   "source": [
    "fit(100, model, loss_fn, opt, train_dl)"
   ]
  },
  {
   "cell_type": "code",
   "execution_count": 49,
   "id": "45c2155f",
   "metadata": {},
   "outputs": [
    {
     "name": "stdout",
     "output_type": "stream",
     "text": [
      "Epoch [10/100], Loss: 7.5710\n",
      "Epoch [20/100], Loss: 7.4063\n",
      "Epoch [30/100], Loss: 7.7155\n",
      "Epoch [40/100], Loss: 6.7594\n",
      "Epoch [50/100], Loss: 12.7679\n",
      "Epoch [60/100], Loss: 6.2213\n",
      "Epoch [70/100], Loss: 7.7336\n",
      "Epoch [80/100], Loss: 3.6051\n",
      "Epoch [90/100], Loss: 5.7488\n",
      "Epoch [100/100], Loss: 1.7007\n"
     ]
    }
   ],
   "source": [
    "fit(100, model, loss_fn, opt, train_dl)"
   ]
  },
  {
   "cell_type": "code",
   "execution_count": 50,
   "id": "d5fcb880",
   "metadata": {},
   "outputs": [
    {
     "name": "stdout",
     "output_type": "stream",
     "text": [
      "Epoch [10/1000], Loss: 3.8704\n",
      "Epoch [20/1000], Loss: 5.8148\n",
      "Epoch [30/1000], Loss: 2.0040\n",
      "Epoch [40/1000], Loss: 3.7599\n",
      "Epoch [50/1000], Loss: 3.9741\n",
      "Epoch [60/1000], Loss: 5.0130\n",
      "Epoch [70/1000], Loss: 3.1328\n",
      "Epoch [80/1000], Loss: 4.2960\n",
      "Epoch [90/1000], Loss: 2.0919\n",
      "Epoch [100/1000], Loss: 4.0252\n",
      "Epoch [110/1000], Loss: 1.6960\n",
      "Epoch [120/1000], Loss: 2.3508\n",
      "Epoch [130/1000], Loss: 2.4901\n",
      "Epoch [140/1000], Loss: 1.3746\n",
      "Epoch [150/1000], Loss: 3.1334\n",
      "Epoch [160/1000], Loss: 0.6770\n",
      "Epoch [170/1000], Loss: 2.2434\n",
      "Epoch [180/1000], Loss: 3.3843\n",
      "Epoch [190/1000], Loss: 2.4984\n",
      "Epoch [200/1000], Loss: 1.2138\n",
      "Epoch [210/1000], Loss: 2.0722\n",
      "Epoch [220/1000], Loss: 1.7791\n",
      "Epoch [230/1000], Loss: 2.7938\n",
      "Epoch [240/1000], Loss: 1.9253\n",
      "Epoch [250/1000], Loss: 1.5004\n",
      "Epoch [260/1000], Loss: 2.2314\n",
      "Epoch [270/1000], Loss: 1.8976\n",
      "Epoch [280/1000], Loss: 2.8042\n",
      "Epoch [290/1000], Loss: 1.0874\n",
      "Epoch [300/1000], Loss: 1.4399\n",
      "Epoch [310/1000], Loss: 2.1316\n",
      "Epoch [320/1000], Loss: 1.2601\n",
      "Epoch [330/1000], Loss: 2.3095\n",
      "Epoch [340/1000], Loss: 1.1169\n",
      "Epoch [350/1000], Loss: 1.8925\n",
      "Epoch [360/1000], Loss: 1.0403\n",
      "Epoch [370/1000], Loss: 1.2463\n",
      "Epoch [380/1000], Loss: 1.6037\n",
      "Epoch [390/1000], Loss: 0.9746\n",
      "Epoch [400/1000], Loss: 0.7410\n",
      "Epoch [410/1000], Loss: 1.3456\n",
      "Epoch [420/1000], Loss: 0.7076\n",
      "Epoch [430/1000], Loss: 1.6611\n",
      "Epoch [440/1000], Loss: 1.7978\n",
      "Epoch [450/1000], Loss: 1.3802\n",
      "Epoch [460/1000], Loss: 1.1385\n",
      "Epoch [470/1000], Loss: 1.0349\n",
      "Epoch [480/1000], Loss: 0.8953\n",
      "Epoch [490/1000], Loss: 1.3264\n",
      "Epoch [500/1000], Loss: 2.0819\n",
      "Epoch [510/1000], Loss: 1.7483\n",
      "Epoch [520/1000], Loss: 1.6068\n",
      "Epoch [530/1000], Loss: 0.4156\n",
      "Epoch [540/1000], Loss: 1.3333\n",
      "Epoch [550/1000], Loss: 1.3525\n",
      "Epoch [560/1000], Loss: 0.6379\n",
      "Epoch [570/1000], Loss: 0.6128\n",
      "Epoch [580/1000], Loss: 1.5956\n",
      "Epoch [590/1000], Loss: 1.3827\n",
      "Epoch [600/1000], Loss: 1.1722\n",
      "Epoch [610/1000], Loss: 1.2967\n",
      "Epoch [620/1000], Loss: 1.5089\n",
      "Epoch [630/1000], Loss: 1.6319\n",
      "Epoch [640/1000], Loss: 1.3428\n",
      "Epoch [650/1000], Loss: 0.9818\n",
      "Epoch [660/1000], Loss: 1.1138\n",
      "Epoch [670/1000], Loss: 1.2829\n",
      "Epoch [680/1000], Loss: 0.7364\n",
      "Epoch [690/1000], Loss: 0.8483\n",
      "Epoch [700/1000], Loss: 1.0975\n",
      "Epoch [710/1000], Loss: 0.8959\n",
      "Epoch [720/1000], Loss: 1.0649\n",
      "Epoch [730/1000], Loss: 1.1659\n",
      "Epoch [740/1000], Loss: 1.0859\n",
      "Epoch [750/1000], Loss: 1.0026\n",
      "Epoch [760/1000], Loss: 1.0889\n",
      "Epoch [770/1000], Loss: 0.8369\n",
      "Epoch [780/1000], Loss: 0.9035\n",
      "Epoch [790/1000], Loss: 1.6610\n",
      "Epoch [800/1000], Loss: 1.1049\n",
      "Epoch [810/1000], Loss: 1.1258\n",
      "Epoch [820/1000], Loss: 1.0241\n",
      "Epoch [830/1000], Loss: 1.4273\n",
      "Epoch [840/1000], Loss: 0.8359\n",
      "Epoch [850/1000], Loss: 1.3596\n",
      "Epoch [860/1000], Loss: 0.8246\n",
      "Epoch [870/1000], Loss: 0.8323\n",
      "Epoch [880/1000], Loss: 0.7639\n",
      "Epoch [890/1000], Loss: 0.6339\n",
      "Epoch [900/1000], Loss: 1.5585\n",
      "Epoch [910/1000], Loss: 0.8402\n",
      "Epoch [920/1000], Loss: 1.4261\n",
      "Epoch [930/1000], Loss: 1.3501\n",
      "Epoch [940/1000], Loss: 1.0882\n",
      "Epoch [950/1000], Loss: 0.8091\n",
      "Epoch [960/1000], Loss: 1.4472\n",
      "Epoch [970/1000], Loss: 0.9237\n",
      "Epoch [980/1000], Loss: 1.1790\n",
      "Epoch [990/1000], Loss: 1.3349\n",
      "Epoch [1000/1000], Loss: 0.7633\n"
     ]
    }
   ],
   "source": [
    "fit(1000, model, loss_fn, opt, train_dl)"
   ]
  },
  {
   "cell_type": "code",
   "execution_count": 51,
   "id": "f21d4a50",
   "metadata": {},
   "outputs": [
    {
     "name": "stdout",
     "output_type": "stream",
     "text": [
      "Epoch [10/1000], Loss: 1.3563\n",
      "Epoch [20/1000], Loss: 1.1963\n",
      "Epoch [30/1000], Loss: 0.8988\n",
      "Epoch [40/1000], Loss: 0.9825\n",
      "Epoch [50/1000], Loss: 0.9528\n",
      "Epoch [60/1000], Loss: 1.1854\n",
      "Epoch [70/1000], Loss: 0.7688\n",
      "Epoch [80/1000], Loss: 0.7702\n",
      "Epoch [90/1000], Loss: 0.8905\n",
      "Epoch [100/1000], Loss: 0.8038\n",
      "Epoch [110/1000], Loss: 1.4073\n",
      "Epoch [120/1000], Loss: 0.8962\n",
      "Epoch [130/1000], Loss: 1.1284\n",
      "Epoch [140/1000], Loss: 1.2053\n",
      "Epoch [150/1000], Loss: 0.9565\n",
      "Epoch [160/1000], Loss: 1.1997\n",
      "Epoch [170/1000], Loss: 0.9109\n",
      "Epoch [180/1000], Loss: 1.1193\n",
      "Epoch [190/1000], Loss: 1.3727\n",
      "Epoch [200/1000], Loss: 1.5865\n",
      "Epoch [210/1000], Loss: 1.1234\n",
      "Epoch [220/1000], Loss: 0.9276\n",
      "Epoch [230/1000], Loss: 0.9490\n",
      "Epoch [240/1000], Loss: 1.2109\n",
      "Epoch [250/1000], Loss: 1.4063\n",
      "Epoch [260/1000], Loss: 1.1239\n",
      "Epoch [270/1000], Loss: 0.9540\n",
      "Epoch [280/1000], Loss: 0.7960\n",
      "Epoch [290/1000], Loss: 1.3487\n",
      "Epoch [300/1000], Loss: 0.9581\n",
      "Epoch [310/1000], Loss: 0.7987\n",
      "Epoch [320/1000], Loss: 1.2547\n",
      "Epoch [330/1000], Loss: 0.7341\n",
      "Epoch [340/1000], Loss: 1.0263\n",
      "Epoch [350/1000], Loss: 0.8504\n",
      "Epoch [360/1000], Loss: 0.9019\n",
      "Epoch [370/1000], Loss: 0.9838\n",
      "Epoch [380/1000], Loss: 0.8570\n",
      "Epoch [390/1000], Loss: 0.7101\n",
      "Epoch [400/1000], Loss: 0.8840\n",
      "Epoch [410/1000], Loss: 0.9904\n",
      "Epoch [420/1000], Loss: 1.2699\n",
      "Epoch [430/1000], Loss: 0.9380\n",
      "Epoch [440/1000], Loss: 0.7592\n",
      "Epoch [450/1000], Loss: 0.8910\n",
      "Epoch [460/1000], Loss: 0.8310\n",
      "Epoch [470/1000], Loss: 0.9833\n",
      "Epoch [480/1000], Loss: 0.8201\n",
      "Epoch [490/1000], Loss: 1.0530\n",
      "Epoch [500/1000], Loss: 1.1693\n",
      "Epoch [510/1000], Loss: 0.8815\n",
      "Epoch [520/1000], Loss: 1.5079\n",
      "Epoch [530/1000], Loss: 0.8023\n",
      "Epoch [540/1000], Loss: 1.4134\n",
      "Epoch [550/1000], Loss: 1.3940\n",
      "Epoch [560/1000], Loss: 1.4561\n",
      "Epoch [570/1000], Loss: 1.2834\n",
      "Epoch [580/1000], Loss: 1.1867\n",
      "Epoch [590/1000], Loss: 1.4086\n",
      "Epoch [600/1000], Loss: 1.5002\n",
      "Epoch [610/1000], Loss: 1.3630\n",
      "Epoch [620/1000], Loss: 1.2997\n",
      "Epoch [630/1000], Loss: 0.8860\n",
      "Epoch [640/1000], Loss: 1.3596\n",
      "Epoch [650/1000], Loss: 1.4073\n",
      "Epoch [660/1000], Loss: 1.0282\n",
      "Epoch [670/1000], Loss: 0.9026\n",
      "Epoch [680/1000], Loss: 1.0453\n",
      "Epoch [690/1000], Loss: 0.7639\n",
      "Epoch [700/1000], Loss: 1.1903\n",
      "Epoch [710/1000], Loss: 1.1781\n",
      "Epoch [720/1000], Loss: 0.9366\n",
      "Epoch [730/1000], Loss: 1.0052\n",
      "Epoch [740/1000], Loss: 1.5065\n",
      "Epoch [750/1000], Loss: 0.8946\n",
      "Epoch [760/1000], Loss: 1.2852\n",
      "Epoch [770/1000], Loss: 1.0486\n",
      "Epoch [780/1000], Loss: 0.7584\n",
      "Epoch [790/1000], Loss: 1.1766\n",
      "Epoch [800/1000], Loss: 1.3440\n",
      "Epoch [810/1000], Loss: 0.9363\n",
      "Epoch [820/1000], Loss: 1.0589\n",
      "Epoch [830/1000], Loss: 1.3384\n",
      "Epoch [840/1000], Loss: 0.9638\n",
      "Epoch [850/1000], Loss: 0.8836\n",
      "Epoch [860/1000], Loss: 1.4046\n",
      "Epoch [870/1000], Loss: 0.7540\n",
      "Epoch [880/1000], Loss: 0.7180\n",
      "Epoch [890/1000], Loss: 0.9524\n",
      "Epoch [900/1000], Loss: 0.8581\n",
      "Epoch [910/1000], Loss: 1.0209\n",
      "Epoch [920/1000], Loss: 1.3327\n",
      "Epoch [930/1000], Loss: 1.4411\n",
      "Epoch [940/1000], Loss: 1.2957\n",
      "Epoch [950/1000], Loss: 1.0316\n",
      "Epoch [960/1000], Loss: 0.9336\n",
      "Epoch [970/1000], Loss: 1.3705\n",
      "Epoch [980/1000], Loss: 1.0247\n",
      "Epoch [990/1000], Loss: 1.3162\n",
      "Epoch [1000/1000], Loss: 1.5556\n"
     ]
    }
   ],
   "source": [
    "fit(1000, model, loss_fn, opt, train_dl)"
   ]
  },
  {
   "cell_type": "code",
   "execution_count": 52,
   "id": "d0f1f093",
   "metadata": {},
   "outputs": [
    {
     "name": "stdout",
     "output_type": "stream",
     "text": [
      "Epoch [10/1000], Loss: 0.6686\n",
      "Epoch [20/1000], Loss: 1.1676\n",
      "Epoch [30/1000], Loss: 1.0600\n",
      "Epoch [40/1000], Loss: 1.4073\n",
      "Epoch [50/1000], Loss: 1.2787\n",
      "Epoch [60/1000], Loss: 1.0538\n",
      "Epoch [70/1000], Loss: 1.2136\n",
      "Epoch [80/1000], Loss: 0.9398\n",
      "Epoch [90/1000], Loss: 0.9132\n",
      "Epoch [100/1000], Loss: 0.9006\n",
      "Epoch [110/1000], Loss: 0.7598\n",
      "Epoch [120/1000], Loss: 1.5240\n",
      "Epoch [130/1000], Loss: 1.0317\n",
      "Epoch [140/1000], Loss: 0.8003\n",
      "Epoch [150/1000], Loss: 1.4832\n",
      "Epoch [160/1000], Loss: 0.9315\n",
      "Epoch [170/1000], Loss: 0.9445\n",
      "Epoch [180/1000], Loss: 0.8855\n",
      "Epoch [190/1000], Loss: 1.0747\n",
      "Epoch [200/1000], Loss: 0.6873\n",
      "Epoch [210/1000], Loss: 1.0240\n",
      "Epoch [220/1000], Loss: 0.7236\n",
      "Epoch [230/1000], Loss: 1.5282\n",
      "Epoch [240/1000], Loss: 1.3701\n",
      "Epoch [250/1000], Loss: 1.0392\n",
      "Epoch [260/1000], Loss: 0.9314\n",
      "Epoch [270/1000], Loss: 1.2801\n",
      "Epoch [280/1000], Loss: 1.3986\n",
      "Epoch [290/1000], Loss: 0.8625\n",
      "Epoch [300/1000], Loss: 0.8313\n",
      "Epoch [310/1000], Loss: 0.8944\n",
      "Epoch [320/1000], Loss: 1.4787\n",
      "Epoch [330/1000], Loss: 1.0396\n",
      "Epoch [340/1000], Loss: 0.7193\n",
      "Epoch [350/1000], Loss: 0.9027\n",
      "Epoch [360/1000], Loss: 0.9400\n",
      "Epoch [370/1000], Loss: 0.7934\n",
      "Epoch [380/1000], Loss: 0.7915\n",
      "Epoch [390/1000], Loss: 0.8821\n",
      "Epoch [400/1000], Loss: 0.7857\n",
      "Epoch [410/1000], Loss: 0.7909\n",
      "Epoch [420/1000], Loss: 1.0113\n",
      "Epoch [430/1000], Loss: 0.9525\n",
      "Epoch [440/1000], Loss: 1.3716\n",
      "Epoch [450/1000], Loss: 1.1069\n",
      "Epoch [460/1000], Loss: 0.9506\n",
      "Epoch [470/1000], Loss: 0.8278\n",
      "Epoch [480/1000], Loss: 1.4384\n",
      "Epoch [490/1000], Loss: 0.8261\n",
      "Epoch [500/1000], Loss: 0.6316\n",
      "Epoch [510/1000], Loss: 1.1683\n",
      "Epoch [520/1000], Loss: 1.1624\n",
      "Epoch [530/1000], Loss: 1.2537\n",
      "Epoch [540/1000], Loss: 0.9044\n",
      "Epoch [550/1000], Loss: 1.4086\n",
      "Epoch [560/1000], Loss: 1.2091\n",
      "Epoch [570/1000], Loss: 1.2194\n",
      "Epoch [580/1000], Loss: 1.4269\n",
      "Epoch [590/1000], Loss: 0.9507\n",
      "Epoch [600/1000], Loss: 0.8452\n",
      "Epoch [610/1000], Loss: 1.2248\n",
      "Epoch [620/1000], Loss: 1.4984\n",
      "Epoch [630/1000], Loss: 0.8982\n",
      "Epoch [640/1000], Loss: 0.9110\n",
      "Epoch [650/1000], Loss: 1.0673\n",
      "Epoch [660/1000], Loss: 1.1733\n",
      "Epoch [670/1000], Loss: 0.9736\n",
      "Epoch [680/1000], Loss: 0.8550\n",
      "Epoch [690/1000], Loss: 1.2406\n",
      "Epoch [700/1000], Loss: 0.6860\n",
      "Epoch [710/1000], Loss: 0.8167\n",
      "Epoch [720/1000], Loss: 1.1450\n",
      "Epoch [730/1000], Loss: 0.9605\n",
      "Epoch [740/1000], Loss: 1.0562\n",
      "Epoch [750/1000], Loss: 1.2468\n",
      "Epoch [760/1000], Loss: 0.9520\n",
      "Epoch [770/1000], Loss: 1.1215\n",
      "Epoch [780/1000], Loss: 0.9555\n",
      "Epoch [790/1000], Loss: 1.1662\n",
      "Epoch [800/1000], Loss: 1.3609\n",
      "Epoch [810/1000], Loss: 1.1662\n",
      "Epoch [820/1000], Loss: 1.0175\n",
      "Epoch [830/1000], Loss: 1.3962\n",
      "Epoch [840/1000], Loss: 1.3549\n",
      "Epoch [850/1000], Loss: 0.9437\n",
      "Epoch [860/1000], Loss: 0.6863\n",
      "Epoch [870/1000], Loss: 1.2083\n",
      "Epoch [880/1000], Loss: 1.1746\n",
      "Epoch [890/1000], Loss: 1.0826\n",
      "Epoch [900/1000], Loss: 1.2721\n",
      "Epoch [910/1000], Loss: 1.0929\n",
      "Epoch [920/1000], Loss: 0.7855\n",
      "Epoch [930/1000], Loss: 1.1371\n",
      "Epoch [940/1000], Loss: 1.0014\n",
      "Epoch [950/1000], Loss: 1.1255\n",
      "Epoch [960/1000], Loss: 1.4148\n",
      "Epoch [970/1000], Loss: 0.8236\n",
      "Epoch [980/1000], Loss: 0.8575\n",
      "Epoch [990/1000], Loss: 1.1336\n",
      "Epoch [1000/1000], Loss: 0.7947\n"
     ]
    }
   ],
   "source": [
    "fit(1000, model, loss_fn, opt, train_dl)"
   ]
  },
  {
   "cell_type": "code",
   "execution_count": 53,
   "id": "c71449ab",
   "metadata": {},
   "outputs": [
    {
     "name": "stdout",
     "output_type": "stream",
     "text": [
      "Epoch [10/1000], Loss: 1.3470\n",
      "Epoch [20/1000], Loss: 1.0637\n",
      "Epoch [30/1000], Loss: 0.7715\n",
      "Epoch [40/1000], Loss: 0.9102\n",
      "Epoch [50/1000], Loss: 1.3595\n",
      "Epoch [60/1000], Loss: 1.2099\n",
      "Epoch [70/1000], Loss: 1.1230\n",
      "Epoch [80/1000], Loss: 0.9488\n",
      "Epoch [90/1000], Loss: 0.6935\n",
      "Epoch [100/1000], Loss: 0.7277\n",
      "Epoch [110/1000], Loss: 1.4734\n",
      "Epoch [120/1000], Loss: 1.4668\n",
      "Epoch [130/1000], Loss: 1.1594\n",
      "Epoch [140/1000], Loss: 0.7625\n",
      "Epoch [150/1000], Loss: 1.1610\n",
      "Epoch [160/1000], Loss: 0.7709\n",
      "Epoch [170/1000], Loss: 0.8766\n",
      "Epoch [180/1000], Loss: 1.2450\n",
      "Epoch [190/1000], Loss: 1.4391\n",
      "Epoch [200/1000], Loss: 0.7897\n",
      "Epoch [210/1000], Loss: 1.5809\n",
      "Epoch [220/1000], Loss: 0.9807\n",
      "Epoch [230/1000], Loss: 1.2977\n",
      "Epoch [240/1000], Loss: 1.5286\n",
      "Epoch [250/1000], Loss: 1.2034\n",
      "Epoch [260/1000], Loss: 0.9592\n",
      "Epoch [270/1000], Loss: 0.6240\n",
      "Epoch [280/1000], Loss: 1.5395\n",
      "Epoch [290/1000], Loss: 0.8237\n",
      "Epoch [300/1000], Loss: 0.9887\n",
      "Epoch [310/1000], Loss: 1.2465\n",
      "Epoch [320/1000], Loss: 0.8344\n",
      "Epoch [330/1000], Loss: 1.2183\n",
      "Epoch [340/1000], Loss: 0.9197\n",
      "Epoch [350/1000], Loss: 0.7845\n",
      "Epoch [360/1000], Loss: 0.7911\n",
      "Epoch [370/1000], Loss: 1.4029\n",
      "Epoch [380/1000], Loss: 1.4546\n",
      "Epoch [390/1000], Loss: 1.4943\n",
      "Epoch [400/1000], Loss: 1.0694\n",
      "Epoch [410/1000], Loss: 0.7284\n",
      "Epoch [420/1000], Loss: 0.8635\n",
      "Epoch [430/1000], Loss: 1.2266\n",
      "Epoch [440/1000], Loss: 0.8309\n",
      "Epoch [450/1000], Loss: 0.7648\n",
      "Epoch [460/1000], Loss: 0.8115\n",
      "Epoch [470/1000], Loss: 0.9623\n",
      "Epoch [480/1000], Loss: 0.8539\n",
      "Epoch [490/1000], Loss: 1.0850\n",
      "Epoch [500/1000], Loss: 0.9603\n",
      "Epoch [510/1000], Loss: 1.0562\n",
      "Epoch [520/1000], Loss: 1.1132\n",
      "Epoch [530/1000], Loss: 0.9175\n",
      "Epoch [540/1000], Loss: 0.8688\n",
      "Epoch [550/1000], Loss: 0.8039\n",
      "Epoch [560/1000], Loss: 0.8222\n",
      "Epoch [570/1000], Loss: 0.8517\n",
      "Epoch [580/1000], Loss: 0.8494\n",
      "Epoch [590/1000], Loss: 1.0780\n",
      "Epoch [600/1000], Loss: 0.9478\n",
      "Epoch [610/1000], Loss: 0.8941\n",
      "Epoch [620/1000], Loss: 1.3796\n",
      "Epoch [630/1000], Loss: 0.9527\n",
      "Epoch [640/1000], Loss: 1.3806\n",
      "Epoch [650/1000], Loss: 1.3223\n",
      "Epoch [660/1000], Loss: 0.8775\n",
      "Epoch [670/1000], Loss: 1.1745\n",
      "Epoch [680/1000], Loss: 0.8888\n",
      "Epoch [690/1000], Loss: 0.8552\n",
      "Epoch [700/1000], Loss: 1.1737\n",
      "Epoch [710/1000], Loss: 1.4081\n",
      "Epoch [720/1000], Loss: 0.9962\n",
      "Epoch [730/1000], Loss: 0.7040\n",
      "Epoch [740/1000], Loss: 1.0796\n",
      "Epoch [750/1000], Loss: 1.3717\n",
      "Epoch [760/1000], Loss: 1.0360\n",
      "Epoch [770/1000], Loss: 1.0223\n",
      "Epoch [780/1000], Loss: 1.2921\n",
      "Epoch [790/1000], Loss: 0.8752\n",
      "Epoch [800/1000], Loss: 1.0137\n",
      "Epoch [810/1000], Loss: 0.9246\n",
      "Epoch [820/1000], Loss: 1.0208\n",
      "Epoch [830/1000], Loss: 0.7147\n",
      "Epoch [840/1000], Loss: 1.4841\n",
      "Epoch [850/1000], Loss: 0.7411\n",
      "Epoch [860/1000], Loss: 1.2197\n",
      "Epoch [870/1000], Loss: 1.2873\n",
      "Epoch [880/1000], Loss: 0.7840\n",
      "Epoch [890/1000], Loss: 1.1681\n",
      "Epoch [900/1000], Loss: 0.9920\n",
      "Epoch [910/1000], Loss: 1.3001\n",
      "Epoch [920/1000], Loss: 1.1450\n",
      "Epoch [930/1000], Loss: 0.8526\n",
      "Epoch [940/1000], Loss: 0.8393\n",
      "Epoch [950/1000], Loss: 1.3490\n",
      "Epoch [960/1000], Loss: 0.7344\n",
      "Epoch [970/1000], Loss: 0.6976\n",
      "Epoch [980/1000], Loss: 1.1790\n",
      "Epoch [990/1000], Loss: 1.1814\n",
      "Epoch [1000/1000], Loss: 0.9165\n"
     ]
    }
   ],
   "source": [
    "fit(1000, model, loss_fn, opt, train_dl)"
   ]
  },
  {
   "cell_type": "code",
   "execution_count": 54,
   "id": "482d3d6f",
   "metadata": {},
   "outputs": [
    {
     "data": {
      "text/plain": [
       "tensor([[ 56.8726,  70.3481],\n",
       "        [ 82.1125, 100.5861],\n",
       "        [118.2123, 132.8118],\n",
       "        [ 20.8415,  37.7727],\n",
       "        [101.8739, 118.5038],\n",
       "        [ 55.6305,  69.2726],\n",
       "        [ 81.9742, 100.6848],\n",
       "        [118.5153, 133.4191],\n",
       "        [ 22.0835,  38.8483],\n",
       "        [102.9776, 119.6780],\n",
       "        [ 56.7342,  70.4468],\n",
       "        [ 80.8705,  99.5106],\n",
       "        [118.3507, 132.7131],\n",
       "        [ 19.7378,  36.5985],\n",
       "        [103.1159, 119.5793]], grad_fn=<AddmmBackward0>)"
      ]
     },
     "execution_count": 54,
     "metadata": {},
     "output_type": "execute_result"
    }
   ],
   "source": [
    "# Generate predictions\n",
    "preds = model(inputs)\n",
    "preds"
   ]
  },
  {
   "cell_type": "code",
   "execution_count": 55,
   "id": "fdb0d75b",
   "metadata": {},
   "outputs": [
    {
     "data": {
      "text/plain": [
       "tensor([[ 56.,  70.],\n",
       "        [ 81., 101.],\n",
       "        [119., 133.],\n",
       "        [ 22.,  37.],\n",
       "        [103., 119.],\n",
       "        [ 57.,  69.],\n",
       "        [ 80., 102.],\n",
       "        [118., 132.],\n",
       "        [ 21.,  38.],\n",
       "        [104., 118.],\n",
       "        [ 57.,  69.],\n",
       "        [ 82., 100.],\n",
       "        [118., 134.],\n",
       "        [ 20.,  38.],\n",
       "        [102., 120.]])"
      ]
     },
     "execution_count": 55,
     "metadata": {},
     "output_type": "execute_result"
    }
   ],
   "source": [
    "# Compare with targets\n",
    "targets"
   ]
  },
  {
   "cell_type": "code",
   "execution_count": 56,
   "id": "95695348",
   "metadata": {},
   "outputs": [
    {
     "data": {
      "text/plain": [
       "tensor([[53.4084, 67.5036]], grad_fn=<AddmmBackward0>)"
      ]
     },
     "execution_count": 56,
     "metadata": {},
     "output_type": "execute_result"
    }
   ],
   "source": [
    "model(torch.tensor([[75, 63, 44.]]))"
   ]
  },
  {
   "cell_type": "code",
   "execution_count": null,
   "id": "87bab01d",
   "metadata": {},
   "outputs": [],
   "source": []
  }
 ],
 "metadata": {
  "kernelspec": {
   "display_name": "Python 3 (ipykernel)",
   "language": "python",
   "name": "python3"
  },
  "language_info": {
   "codemirror_mode": {
    "name": "ipython",
    "version": 3
   },
   "file_extension": ".py",
   "mimetype": "text/x-python",
   "name": "python",
   "nbconvert_exporter": "python",
   "pygments_lexer": "ipython3",
   "version": "3.9.7"
  }
 },
 "nbformat": 4,
 "nbformat_minor": 5
}
